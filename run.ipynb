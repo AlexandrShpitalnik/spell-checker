{
  "nbformat": 4,
  "nbformat_minor": 0,
  "metadata": {
    "kernelspec": {
      "display_name": "Python 3",
      "language": "python",
      "name": "python3"
    },
    "language_info": {
      "codemirror_mode": {
        "name": "ipython",
        "version": 3
      },
      "file_extension": ".py",
      "mimetype": "text/x-python",
      "name": "python",
      "nbconvert_exporter": "python",
      "pygments_lexer": "ipython3",
      "version": "3.7.3"
    },
    "colab": {
      "name": "run.ipynb",
      "provenance": [],
      "collapsed_sections": []
    }
  },
  "cells": [
    {
      "cell_type": "code",
      "metadata": {
        "id": "usJTlSlcIkjv",
        "colab_type": "code",
        "colab": {
          "base_uri": "https://localhost:8080/",
          "height": 34
        },
        "outputId": "3ecbfc87-0697-4c27-9a13-f3809e927c1e"
      },
      "source": [
        "from google.colab import drive\n",
        "drive.mount('/content/drive')\n",
        "\n",
        "! cp -r -f /content/drive/'My Drive'/active/spellchecker/main.py main.py\n",
        "! cp -r -f /content/drive/'My Drive'/active/spellchecker/queries_all.txt queries_all.txt\n",
        "import sys\n"
      ],
      "execution_count": 2,
      "outputs": [
        {
          "output_type": "stream",
          "text": [
            "Drive already mounted at /content/drive; to attempt to forcibly remount, call drive.mount(\"/content/drive\", force_remount=True).\n"
          ],
          "name": "stdout"
        }
      ]
    },
    {
      "cell_type": "code",
      "metadata": {
        "id": "yUwtd6v3I8q-",
        "colab_type": "code",
        "colab": {}
      },
      "source": [
        "from main import Models\n",
        "spellchecker = Models(lang_laplasian_pair=0.001, lang_laplasian_single=0.001, constant_penalty=-15)\n",
        "spellchecker.build_model('queries_all.txt')"
      ],
      "execution_count": 3,
      "outputs": []
    },
    {
      "cell_type": "code",
      "metadata": {
        "id": "CRR-ePFIwTqh",
        "colab_type": "code",
        "colab": {}
      },
      "source": [
        "spellchecker.debug=False"
      ],
      "execution_count": 25,
      "outputs": []
    },
    {
      "cell_type": "code",
      "metadata": {
        "id": "ag40N3BDIe9P",
        "colab_type": "code",
        "colab": {
          "base_uri": "https://localhost:8080/",
          "height": 35
        },
        "outputId": "53f786b2-ea11-4441-8ac9-af14e90a64db"
      },
      "source": [
        "a = 'брый мдвед' \n",
        "spellchecker.check_query(a, n_candidates=8, lang_weight=0.7, error_weight=0.3, max_penalty=-10, \n",
        "                         seq_single_weight=0.5, seq_pair_weight=0.5)"
      ],
      "execution_count": 26,
      "outputs": [
        {
          "output_type": "execute_result",
          "data": {
            "application/vnd.google.colaboratory.intrinsic+json": {
              "type": "string"
            },
            "text/plain": [
              "'бурый медведь'"
            ]
          },
          "metadata": {
            "tags": []
          },
          "execution_count": 26
        }
      ]
    },
    {
      "cell_type": "code",
      "metadata": {
        "id": "5cNTwoOALN-p",
        "colab_type": "code",
        "colab": {
          "base_uri": "https://localhost:8080/",
          "height": 35
        },
        "outputId": "a1c70597-8b6c-4b5e-ec14-afc04d8bbf90"
      },
      "source": [
        "a = 'скчать я под дождем стаю'\n",
        "spellchecker.check_query(a, n_candidates=8, lang_weight=0.7, error_weight=0.3, max_penalty=-10, \n",
        "                         seq_single_weight=0.5, seq_pair_weight=0.5)"
      ],
      "execution_count": 27,
      "outputs": [
        {
          "output_type": "execute_result",
          "data": {
            "application/vnd.google.colaboratory.intrinsic+json": {
              "type": "string"
            },
            "text/plain": [
              "'скачать я под дождем стою'"
            ]
          },
          "metadata": {
            "tags": []
          },
          "execution_count": 27
        }
      ]
    },
    {
      "cell_type": "code",
      "metadata": {
        "id": "FhYVv-DrzOjG",
        "colab_type": "code",
        "colab": {
          "base_uri": "https://localhost:8080/",
          "height": 35
        },
        "outputId": "b457e53e-de60-4431-bb1e-818d40b56e3f"
      },
      "source": [
        "a = 'скчать фильму'\n",
        "spellchecker.check_query(a, n_candidates=8, lang_weight=0.7, error_weight=0.3, max_penalty=-10, \n",
        "                         seq_single_weight=0.5, seq_pair_weight=0.5)"
      ],
      "execution_count": 28,
      "outputs": [
        {
          "output_type": "execute_result",
          "data": {
            "application/vnd.google.colaboratory.intrinsic+json": {
              "type": "string"
            },
            "text/plain": [
              "'скачать фильм'"
            ]
          },
          "metadata": {
            "tags": []
          },
          "execution_count": 28
        }
      ]
    },
    {
      "cell_type": "code",
      "metadata": {
        "id": "18EFk6LVTUan",
        "colab_type": "code",
        "colab": {
          "base_uri": "https://localhost:8080/",
          "height": 35
        },
        "outputId": "eee0c742-0683-4380-e3ff-915057b140c9"
      },
      "source": [
        "a = 'купит книга'\n",
        "spellchecker.check_query(a, n_candidates=8, lang_weight=0.7, error_weight=0.3, max_penalty=-10, \n",
        "                         seq_single_weight=0.5, seq_pair_weight=0.5)"
      ],
      "execution_count": 29,
      "outputs": [
        {
          "output_type": "execute_result",
          "data": {
            "application/vnd.google.colaboratory.intrinsic+json": {
              "type": "string"
            },
            "text/plain": [
              "'купить книгу'"
            ]
          },
          "metadata": {
            "tags": []
          },
          "execution_count": 29
        }
      ]
    }
  ]
}